{
 "cells": [
  {
   "cell_type": "code",
   "execution_count": 12,
   "metadata": {
    "collapsed": true
   },
   "outputs": [],
   "source": [
    "import re"
   ]
  },
  {
   "cell_type": "code",
   "execution_count": 51,
   "metadata": {
    "collapsed": true
   },
   "outputs": [],
   "source": [
    "seq = u\"「」\"\n",
    "mtxt =\"\"\"\n",
    "如：「一則新聞」、「一則廣告」。\n",
    "\"\"\""
   ]
  },
  {
   "cell_type": "code",
   "execution_count": 52,
   "metadata": {
    "collapsed": false
   },
   "outputs": [],
   "source": [
    "def split_sentence(s):\n",
    "    u'''\n",
    "    >>> map(len, split_sentence(u\"架子，放置器物的木器。木架上分不同形狀的許多層小格，格內可放入各種器皿、用具。儒林外史˙第二十三回：「又走進去，大殿上{[8e50]}子倒的七橫八豎。」紅樓夢˙第八十五回：「麝月便走去在裡間屋裡{[8e50]}子上頭拿了來。」亦作「格子」、「{[8e50]}子」。\"))\n",
    "    [11, 28, 37, 37, 19]\n",
    "    >>> map(len, split_sentence(u\"栝樓的別名。見「栝樓」條。\"))\n",
    "    [6, 7]\n",
    "    >>> map(len, split_sentence(u\"如：「一則新聞」、「一則廣告」。\"))\n",
    "    [16]\n",
    "    '''\n",
    "    sentences = []\n",
    "    snt = ''\n",
    "    wait = []\n",
    "    pairs = {\n",
    "            u'「': u'」',\n",
    "            u'『': u'』',\n",
    "            }\n",
    "    for i, c in enumerate(s):\n",
    "        snt += c\n",
    "        if c in pairs:\n",
    "            wait.append(pairs[c])\n",
    "        if wait and wait[-1] == c:\n",
    "            wait.pop()\n",
    "\n",
    "        if not wait and any([\n",
    "            re.search(ur'。$', snt),\n",
    "            re.search(ur'：「.*」$', snt),\n",
    "            ]) and (s[i+1:i+2] not in u'、。') and s[i+1:i+3] != u'句下':\n",
    "            sentences.append(snt)\n",
    "            snt = ''\n",
    "\n",
    "    if wait:\n",
    "        logging.warn('unbalance brances: %s' % s)\n",
    "        raise UnbalanceBrances\n",
    "    if snt:\n",
    "        sentences.append(snt)\n",
    "\n",
    "    return sentences"
   ]
  },
  {
   "cell_type": "code",
   "execution_count": 53,
   "metadata": {
    "collapsed": false
   },
   "outputs": [
    {
     "name": "stdout",
     "output_type": "stream",
     "text": [
      "\n",
      "如：「一則新聞」、「一則廣告」。\n",
      "\n",
      "\n"
     ]
    }
   ],
   "source": [
    "print \"\\n\".join(split_sentence(mtxt.decode(\"utf8\")))"
   ]
  },
  {
   "cell_type": "code",
   "execution_count": 69,
   "metadata": {
    "collapsed": false
   },
   "outputs": [
    {
     "name": "stdout",
     "output_type": "stream",
     "text": [
      "一則新聞」、「一則廣告\n"
     ]
    }
   ],
   "source": [
    "m = re.findall(r\"「(\\W+)」\", mtxt)\n",
    "print m[0]"
   ]
  },
  {
   "cell_type": "code",
   "execution_count": 73,
   "metadata": {
    "collapsed": false
   },
   "outputs": [
    {
     "name": "stdout",
     "output_type": "stream",
     "text": [
      "一則新聞\n",
      "一則廣告\n"
     ]
    }
   ],
   "source": [
    "for ele in mtxt.split('「'):\n",
    "    if re.search('」', ele):\n",
    "        print ele.split('」')[0]\n",
    "        "
   ]
  },
  {
   "cell_type": "code",
   "execution_count": null,
   "metadata": {
    "collapsed": true
   },
   "outputs": [],
   "source": []
  }
 ],
 "metadata": {
  "kernelspec": {
   "display_name": "Python 2",
   "language": "python",
   "name": "python2"
  },
  "language_info": {
   "codemirror_mode": {
    "name": "ipython",
    "version": 2
   },
   "file_extension": ".py",
   "mimetype": "text/x-python",
   "name": "python",
   "nbconvert_exporter": "python",
   "pygments_lexer": "ipython2",
   "version": "2.7.11"
  }
 },
 "nbformat": 4,
 "nbformat_minor": 0
}
