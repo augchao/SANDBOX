{
 "cells": [
  {
   "cell_type": "code",
   "execution_count": 1,
   "metadata": {
    "collapsed": false
   },
   "outputs": [],
   "source": [
    "import urllib, urllib2\n",
    "import hashlib\n",
    "import feedparser\n",
    "from bs4 import BeautifulSoup\n"
   ]
  },
  {
   "cell_type": "code",
   "execution_count": 2,
   "metadata": {
    "collapsed": true
   },
   "outputs": [],
   "source": [
    "def toUtf8(ele):\n",
    "    return urllib.unquote(ele.encode(\"utf8\")).decode('utf8') "
   ]
  },
  {
   "cell_type": "code",
   "execution_count": 3,
   "metadata": {
    "collapsed": true
   },
   "outputs": [],
   "source": [
    "def getContent(link):\n",
    "    return urllib2.urlopen(link).read()\n"
   ]
  },
  {
   "cell_type": "code",
   "execution_count": 4,
   "metadata": {
    "collapsed": false
   },
   "outputs": [],
   "source": [
    "def parseCnt(html):\n",
    "    soup = BeautifulSoup(html, 'html.parser')\n",
    "    b_div = soup.find_all(\"div\", attrs={\"itemprop\":\"articleBody\"})\n",
    "    if len(b_div)>0:\n",
    "        return b_div[0].get_text()\n",
    "    return \"\""
   ]
  },
  {
   "cell_type": "code",
   "execution_count": 5,
   "metadata": {
    "collapsed": false
   },
   "outputs": [],
   "source": [
    "urls = { \n",
    "    \"實用\":\"https://tw.news.yahoo.com/sentiment/informative/rss\",\n",
    "    \"感人\":\"https://tw.news.yahoo.com/sentiment/warm/rss/\",\n",
    "    \"開心\":\"https://tw.news.yahoo.com/sentiment/happy/rss/\",\n",
    "    \"超扯\":\"https://tw.news.yahoo.com/sentiment/odd/rss/\",\n",
    "    \"害怕\":\"https://tw.news.yahoo.com/sentiment/worried/rss/\",\n",
    "    \"火大\":\"https://tw.news.yahoo.com/sentiment/angry/rss/\",\n",
    "    \"難過\":\"https://tw.news.yahoo.com/sentiment/angry/rss/\" }"
   ]
  },
  {
   "cell_type": "code",
   "execution_count": 6,
   "metadata": {
    "collapsed": false
   },
   "outputs": [],
   "source": [
    "feed = feedparser.parse( urls[\"火大\"] )"
   ]
  },
  {
   "cell_type": "code",
   "execution_count": 7,
   "metadata": {
    "collapsed": true
   },
   "outputs": [],
   "source": [
    "def getHash(item_id):\n",
    "    h = hashlib.new('ripemd160')\n",
    "    h.update(item_id.encode(\"utf8\"))\n",
    "    return h.hexdigest()    "
   ]
  },
  {
   "cell_type": "code",
   "execution_count": 8,
   "metadata": {
    "collapsed": false,
    "scrolled": false
   },
   "outputs": [
    {
     "name": "stdout",
     "output_type": "stream",
     "text": [
      "==========\n",
      "台灣國貼紙 網友譙「死道友不死貧道」 楊志良：林昶佐欠馬政府一個道歉\n",
      "台灣國貼紙-網友譙-死道友不死貧道-楊志良-林昶佐欠馬政府-個道歉-215007069\n",
      "587f792a0df572afaba9b2d629e5da8d8c803f52\n",
      "587f792a0df572afaba9b2d629e5da8d8c803f52\n",
      "['summary_detail', 'published_parsed', 'links', 'title', 'summary', 'guidislink', 'title_detail', 'link', 'published', 'id']\n",
      "time.struct_time(tm_year=2016, tm_mon=5, tm_mday=23, tm_hour=21, tm_min=50, tm_sec=7, tm_wday=0, tm_yday=144, tm_isdst=0)\n",
      "==========\n",
      "政院撤告太陽花 基層警察：亂了\n",
      "政院撤告太陽花-基層警察-亂了-193500682\n",
      "8b584173ba40b0ddd48788e12c03ddbea9b4903a\n",
      "8b584173ba40b0ddd48788e12c03ddbea9b4903a\n",
      "['summary_detail', 'published_parsed', 'links', 'title', 'summary', 'guidislink', 'title_detail', 'link', 'published', 'id']\n",
      "time.struct_time(tm_year=2016, tm_mon=5, tm_mday=24, tm_hour=19, tm_min=35, tm_sec=0, tm_wday=1, tm_yday=145, tm_isdst=0)\n"
     ]
    }
   ],
   "source": [
    "for news_item in feed['entries'][:2]:\n",
    "    print \"=\"*10\n",
    "    print toUtf8(news_item['title']) \n",
    "    print toUtf8(news_item['id'])\n",
    "    print getHash(toUtf8(news_item['id']))\n",
    "    print getHash(toUtf8(news_item['id']))\n",
    "#     cnt = getContent(news_item['link'])\n",
    "#     print parseCnt(cnt)\n",
    "    print news_item.keys()\n",
    "    print news_item['published_parsed']"
   ]
  },
  {
   "cell_type": "code",
   "execution_count": null,
   "metadata": {
    "collapsed": true
   },
   "outputs": [],
   "source": []
  }
 ],
 "metadata": {
  "kernelspec": {
   "display_name": "Python 2",
   "language": "python",
   "name": "python2"
  },
  "language_info": {
   "codemirror_mode": {
    "name": "ipython",
    "version": 2
   },
   "file_extension": ".py",
   "mimetype": "text/x-python",
   "name": "python",
   "nbconvert_exporter": "python",
   "pygments_lexer": "ipython2",
   "version": "2.7.11"
  }
 },
 "nbformat": 4,
 "nbformat_minor": 0
}
