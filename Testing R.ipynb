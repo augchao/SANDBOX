{
 "cells": [
  {
   "cell_type": "code",
   "execution_count": 6,
   "metadata": {
    "collapsed": false,
    "slideshow": {
     "slide_type": "slide"
    }
   },
   "outputs": [],
   "source": [
    "library(dplyr)"
   ]
  },
  {
   "cell_type": "code",
   "execution_count": 7,
   "metadata": {
    "collapsed": false,
    "slideshow": {
     "slide_type": "slide"
    }
   },
   "outputs": [
    {
     "name": "stderr",
     "output_type": "stream",
     "text": [
      "Warning message:\n",
      "In `[<-.factor`(`*tmp*`, ri, value = \"<e2><8b><ae>\"): invalid factor level, NA generatedWarning message:\n",
      "In `[<-.factor`(`*tmp*`, ri, value = \"<e2><8b><ae>\"): invalid factor level, NA generated"
     ]
    },
    {
     "data": {
      "text/html": [
       "<table>\n",
       "<thead><tr><th></th><th scope=col>Sepal.Length</th><th scope=col>Sepal.Width</th><th scope=col>Petal.Length</th><th scope=col>Petal.Width</th><th scope=col>Species</th></tr></thead>\n",
       "<tbody>\n",
       "\t<tr><th scope=row>1</th><td>5.1</td><td>3.5</td><td>1.4</td><td>0.2</td><td>setosa</td></tr>\n",
       "\t<tr><th scope=row>2</th><td>4.9</td><td>3</td><td>1.4</td><td>0.2</td><td>setosa</td></tr>\n",
       "\t<tr><th scope=row>3</th><td>4.7</td><td>3.2</td><td>1.3</td><td>0.2</td><td>setosa</td></tr>\n",
       "\t<tr><th scope=row>4</th><td>4.6</td><td>3.1</td><td>1.5</td><td>0.2</td><td>setosa</td></tr>\n",
       "\t<tr><th scope=row>5</th><td>5</td><td>3.6</td><td>1.4</td><td>0.2</td><td>setosa</td></tr>\n",
       "\t<tr><th scope=row>6</th><td>5.4</td><td>3.9</td><td>1.7</td><td>0.4</td><td>setosa</td></tr>\n",
       "\t<tr><th scope=row>7</th><td>4.6</td><td>3.4</td><td>1.4</td><td>0.3</td><td>setosa</td></tr>\n",
       "\t<tr><th scope=row>8</th><td>5</td><td>3.4</td><td>1.5</td><td>0.2</td><td>setosa</td></tr>\n",
       "\t<tr><th scope=row>9</th><td>4.4</td><td>2.9</td><td>1.4</td><td>0.2</td><td>setosa</td></tr>\n",
       "\t<tr><th scope=row>10</th><td>4.9</td><td>3.1</td><td>1.5</td><td>0.1</td><td>setosa</td></tr>\n",
       "\t<tr><th scope=row>11</th><td>5.4</td><td>3.7</td><td>1.5</td><td>0.2</td><td>setosa</td></tr>\n",
       "\t<tr><th scope=row>12</th><td>4.8</td><td>3.4</td><td>1.6</td><td>0.2</td><td>setosa</td></tr>\n",
       "\t<tr><th scope=row>13</th><td>4.8</td><td>3</td><td>1.4</td><td>0.1</td><td>setosa</td></tr>\n",
       "\t<tr><th scope=row>14</th><td>4.3</td><td>3</td><td>1.1</td><td>0.1</td><td>setosa</td></tr>\n",
       "\t<tr><th scope=row>15</th><td>5.8</td><td>4</td><td>1.2</td><td>0.2</td><td>setosa</td></tr>\n",
       "\t<tr><th scope=row>16</th><td>5.7</td><td>4.4</td><td>1.5</td><td>0.4</td><td>setosa</td></tr>\n",
       "\t<tr><th scope=row>17</th><td>5.4</td><td>3.9</td><td>1.3</td><td>0.4</td><td>setosa</td></tr>\n",
       "\t<tr><th scope=row>18</th><td>5.1</td><td>3.5</td><td>1.4</td><td>0.3</td><td>setosa</td></tr>\n",
       "\t<tr><th scope=row>19</th><td>5.7</td><td>3.8</td><td>1.7</td><td>0.3</td><td>setosa</td></tr>\n",
       "\t<tr><th scope=row>20</th><td>5.1</td><td>3.8</td><td>1.5</td><td>0.3</td><td>setosa</td></tr>\n",
       "\t<tr><th scope=row>21</th><td>5.4</td><td>3.4</td><td>1.7</td><td>0.2</td><td>setosa</td></tr>\n",
       "\t<tr><th scope=row>22</th><td>5.1</td><td>3.7</td><td>1.5</td><td>0.4</td><td>setosa</td></tr>\n",
       "\t<tr><th scope=row>23</th><td>4.6</td><td>3.6</td><td>1</td><td>0.2</td><td>setosa</td></tr>\n",
       "\t<tr><th scope=row>24</th><td>5.1</td><td>3.3</td><td>1.7</td><td>0.5</td><td>setosa</td></tr>\n",
       "\t<tr><th scope=row>25</th><td>4.8</td><td>3.4</td><td>1.9</td><td>0.2</td><td>setosa</td></tr>\n",
       "\t<tr><th scope=row>26</th><td>5</td><td>3</td><td>1.6</td><td>0.2</td><td>setosa</td></tr>\n",
       "\t<tr><th scope=row>27</th><td>5</td><td>3.4</td><td>1.6</td><td>0.4</td><td>setosa</td></tr>\n",
       "\t<tr><th scope=row>28</th><td>5.2</td><td>3.5</td><td>1.5</td><td>0.2</td><td>setosa</td></tr>\n",
       "\t<tr><th scope=row>29</th><td>5.2</td><td>3.4</td><td>1.4</td><td>0.2</td><td>setosa</td></tr>\n",
       "\t<tr><th scope=row>30</th><td>4.7</td><td>3.2</td><td>1.6</td><td>0.2</td><td>setosa</td></tr>\n",
       "\t<tr><th scope=row>31</th><td><e2><8b><ae></td><td><e2><8b><ae></td><td><e2><8b><ae></td><td><e2><8b><ae></td><td>NA</td></tr>\n",
       "\t<tr><th scope=row>121</th><td>6.9</td><td>3.2</td><td>5.7</td><td>2.3</td><td>virginica</td></tr>\n",
       "\t<tr><th scope=row>122</th><td>5.6</td><td>2.8</td><td>4.9</td><td>2</td><td>virginica</td></tr>\n",
       "\t<tr><th scope=row>123</th><td>7.7</td><td>2.8</td><td>6.7</td><td>2</td><td>virginica</td></tr>\n",
       "\t<tr><th scope=row>124</th><td>6.3</td><td>2.7</td><td>4.9</td><td>1.8</td><td>virginica</td></tr>\n",
       "\t<tr><th scope=row>125</th><td>6.7</td><td>3.3</td><td>5.7</td><td>2.1</td><td>virginica</td></tr>\n",
       "\t<tr><th scope=row>126</th><td>7.2</td><td>3.2</td><td>6</td><td>1.8</td><td>virginica</td></tr>\n",
       "\t<tr><th scope=row>127</th><td>6.2</td><td>2.8</td><td>4.8</td><td>1.8</td><td>virginica</td></tr>\n",
       "\t<tr><th scope=row>128</th><td>6.1</td><td>3</td><td>4.9</td><td>1.8</td><td>virginica</td></tr>\n",
       "\t<tr><th scope=row>129</th><td>6.4</td><td>2.8</td><td>5.6</td><td>2.1</td><td>virginica</td></tr>\n",
       "\t<tr><th scope=row>130</th><td>7.2</td><td>3</td><td>5.8</td><td>1.6</td><td>virginica</td></tr>\n",
       "\t<tr><th scope=row>131</th><td>7.4</td><td>2.8</td><td>6.1</td><td>1.9</td><td>virginica</td></tr>\n",
       "\t<tr><th scope=row>132</th><td>7.9</td><td>3.8</td><td>6.4</td><td>2</td><td>virginica</td></tr>\n",
       "\t<tr><th scope=row>133</th><td>6.4</td><td>2.8</td><td>5.6</td><td>2.2</td><td>virginica</td></tr>\n",
       "\t<tr><th scope=row>134</th><td>6.3</td><td>2.8</td><td>5.1</td><td>1.5</td><td>virginica</td></tr>\n",
       "\t<tr><th scope=row>135</th><td>6.1</td><td>2.6</td><td>5.6</td><td>1.4</td><td>virginica</td></tr>\n",
       "\t<tr><th scope=row>136</th><td>7.7</td><td>3</td><td>6.1</td><td>2.3</td><td>virginica</td></tr>\n",
       "\t<tr><th scope=row>137</th><td>6.3</td><td>3.4</td><td>5.6</td><td>2.4</td><td>virginica</td></tr>\n",
       "\t<tr><th scope=row>138</th><td>6.4</td><td>3.1</td><td>5.5</td><td>1.8</td><td>virginica</td></tr>\n",
       "\t<tr><th scope=row>139</th><td>6</td><td>3</td><td>4.8</td><td>1.8</td><td>virginica</td></tr>\n",
       "\t<tr><th scope=row>140</th><td>6.9</td><td>3.1</td><td>5.4</td><td>2.1</td><td>virginica</td></tr>\n",
       "\t<tr><th scope=row>141</th><td>6.7</td><td>3.1</td><td>5.6</td><td>2.4</td><td>virginica</td></tr>\n",
       "\t<tr><th scope=row>142</th><td>6.9</td><td>3.1</td><td>5.1</td><td>2.3</td><td>virginica</td></tr>\n",
       "\t<tr><th scope=row>143</th><td>5.8</td><td>2.7</td><td>5.1</td><td>1.9</td><td>virginica</td></tr>\n",
       "\t<tr><th scope=row>144</th><td>6.8</td><td>3.2</td><td>5.9</td><td>2.3</td><td>virginica</td></tr>\n",
       "\t<tr><th scope=row>145</th><td>6.7</td><td>3.3</td><td>5.7</td><td>2.5</td><td>virginica</td></tr>\n",
       "\t<tr><th scope=row>146</th><td>6.7</td><td>3</td><td>5.2</td><td>2.3</td><td>virginica</td></tr>\n",
       "\t<tr><th scope=row>147</th><td>6.3</td><td>2.5</td><td>5</td><td>1.9</td><td>virginica</td></tr>\n",
       "\t<tr><th scope=row>148</th><td>6.5</td><td>3</td><td>5.2</td><td>2</td><td>virginica</td></tr>\n",
       "\t<tr><th scope=row>149</th><td>6.2</td><td>3.4</td><td>5.4</td><td>2.3</td><td>virginica</td></tr>\n",
       "\t<tr><th scope=row>150</th><td>5.9</td><td>3</td><td>5.1</td><td>1.8</td><td>virginica</td></tr>\n",
       "</tbody>\n",
       "</table>\n"
      ],
      "text/latex": [
       "\\begin{tabular}{r|lllll}\n",
       "  & Sepal.Length & Sepal.Width & Petal.Length & Petal.Width & Species\\\\\n",
       "\\hline\n",
       "\t1 & 5.1 & 3.5 & 1.4 & 0.2 & setosa\\\\\n",
       "\t2 & 4.9 & 3 & 1.4 & 0.2 & setosa\\\\\n",
       "\t3 & 4.7 & 3.2 & 1.3 & 0.2 & setosa\\\\\n",
       "\t4 & 4.6 & 3.1 & 1.5 & 0.2 & setosa\\\\\n",
       "\t5 & 5 & 3.6 & 1.4 & 0.2 & setosa\\\\\n",
       "\t6 & 5.4 & 3.9 & 1.7 & 0.4 & setosa\\\\\n",
       "\t7 & 4.6 & 3.4 & 1.4 & 0.3 & setosa\\\\\n",
       "\t8 & 5 & 3.4 & 1.5 & 0.2 & setosa\\\\\n",
       "\t9 & 4.4 & 2.9 & 1.4 & 0.2 & setosa\\\\\n",
       "\t10 & 4.9 & 3.1 & 1.5 & 0.1 & setosa\\\\\n",
       "\t11 & 5.4 & 3.7 & 1.5 & 0.2 & setosa\\\\\n",
       "\t12 & 4.8 & 3.4 & 1.6 & 0.2 & setosa\\\\\n",
       "\t13 & 4.8 & 3 & 1.4 & 0.1 & setosa\\\\\n",
       "\t14 & 4.3 & 3 & 1.1 & 0.1 & setosa\\\\\n",
       "\t15 & 5.8 & 4 & 1.2 & 0.2 & setosa\\\\\n",
       "\t16 & 5.7 & 4.4 & 1.5 & 0.4 & setosa\\\\\n",
       "\t17 & 5.4 & 3.9 & 1.3 & 0.4 & setosa\\\\\n",
       "\t18 & 5.1 & 3.5 & 1.4 & 0.3 & setosa\\\\\n",
       "\t19 & 5.7 & 3.8 & 1.7 & 0.3 & setosa\\\\\n",
       "\t20 & 5.1 & 3.8 & 1.5 & 0.3 & setosa\\\\\n",
       "\t21 & 5.4 & 3.4 & 1.7 & 0.2 & setosa\\\\\n",
       "\t22 & 5.1 & 3.7 & 1.5 & 0.4 & setosa\\\\\n",
       "\t23 & 4.6 & 3.6 & 1 & 0.2 & setosa\\\\\n",
       "\t24 & 5.1 & 3.3 & 1.7 & 0.5 & setosa\\\\\n",
       "\t25 & 4.8 & 3.4 & 1.9 & 0.2 & setosa\\\\\n",
       "\t26 & 5 & 3 & 1.6 & 0.2 & setosa\\\\\n",
       "\t27 & 5 & 3.4 & 1.6 & 0.4 & setosa\\\\\n",
       "\t28 & 5.2 & 3.5 & 1.5 & 0.2 & setosa\\\\\n",
       "\t29 & 5.2 & 3.4 & 1.4 & 0.2 & setosa\\\\\n",
       "\t30 & 4.7 & 3.2 & 1.6 & 0.2 & setosa\\\\\n",
       "\t31 & <e2><8b><ae> & <e2><8b><ae> & <e2><8b><ae> & <e2><8b><ae> & NA\\\\\n",
       "\t121 & 6.9 & 3.2 & 5.7 & 2.3 & virginica\\\\\n",
       "\t122 & 5.6 & 2.8 & 4.9 & 2 & virginica\\\\\n",
       "\t123 & 7.7 & 2.8 & 6.7 & 2 & virginica\\\\\n",
       "\t124 & 6.3 & 2.7 & 4.9 & 1.8 & virginica\\\\\n",
       "\t125 & 6.7 & 3.3 & 5.7 & 2.1 & virginica\\\\\n",
       "\t126 & 7.2 & 3.2 & 6 & 1.8 & virginica\\\\\n",
       "\t127 & 6.2 & 2.8 & 4.8 & 1.8 & virginica\\\\\n",
       "\t128 & 6.1 & 3 & 4.9 & 1.8 & virginica\\\\\n",
       "\t129 & 6.4 & 2.8 & 5.6 & 2.1 & virginica\\\\\n",
       "\t130 & 7.2 & 3 & 5.8 & 1.6 & virginica\\\\\n",
       "\t131 & 7.4 & 2.8 & 6.1 & 1.9 & virginica\\\\\n",
       "\t132 & 7.9 & 3.8 & 6.4 & 2 & virginica\\\\\n",
       "\t133 & 6.4 & 2.8 & 5.6 & 2.2 & virginica\\\\\n",
       "\t134 & 6.3 & 2.8 & 5.1 & 1.5 & virginica\\\\\n",
       "\t135 & 6.1 & 2.6 & 5.6 & 1.4 & virginica\\\\\n",
       "\t136 & 7.7 & 3 & 6.1 & 2.3 & virginica\\\\\n",
       "\t137 & 6.3 & 3.4 & 5.6 & 2.4 & virginica\\\\\n",
       "\t138 & 6.4 & 3.1 & 5.5 & 1.8 & virginica\\\\\n",
       "\t139 & 6 & 3 & 4.8 & 1.8 & virginica\\\\\n",
       "\t140 & 6.9 & 3.1 & 5.4 & 2.1 & virginica\\\\\n",
       "\t141 & 6.7 & 3.1 & 5.6 & 2.4 & virginica\\\\\n",
       "\t142 & 6.9 & 3.1 & 5.1 & 2.3 & virginica\\\\\n",
       "\t143 & 5.8 & 2.7 & 5.1 & 1.9 & virginica\\\\\n",
       "\t144 & 6.8 & 3.2 & 5.9 & 2.3 & virginica\\\\\n",
       "\t145 & 6.7 & 3.3 & 5.7 & 2.5 & virginica\\\\\n",
       "\t146 & 6.7 & 3 & 5.2 & 2.3 & virginica\\\\\n",
       "\t147 & 6.3 & 2.5 & 5 & 1.9 & virginica\\\\\n",
       "\t148 & 6.5 & 3 & 5.2 & 2 & virginica\\\\\n",
       "\t149 & 6.2 & 3.4 & 5.4 & 2.3 & virginica\\\\\n",
       "\t150 & 5.9 & 3 & 5.1 & 1.8 & virginica\\\\\n",
       "\\end{tabular}\n"
      ],
      "text/plain": [
       "    Sepal.Length Sepal.Width Petal.Length Petal.Width    Species\n",
       "1            5.1         3.5          1.4         0.2     setosa\n",
       "2            4.9         3.0          1.4         0.2     setosa\n",
       "3            4.7         3.2          1.3         0.2     setosa\n",
       "4            4.6         3.1          1.5         0.2     setosa\n",
       "5            5.0         3.6          1.4         0.2     setosa\n",
       "6            5.4         3.9          1.7         0.4     setosa\n",
       "7            4.6         3.4          1.4         0.3     setosa\n",
       "8            5.0         3.4          1.5         0.2     setosa\n",
       "9            4.4         2.9          1.4         0.2     setosa\n",
       "10           4.9         3.1          1.5         0.1     setosa\n",
       "11           5.4         3.7          1.5         0.2     setosa\n",
       "12           4.8         3.4          1.6         0.2     setosa\n",
       "13           4.8         3.0          1.4         0.1     setosa\n",
       "14           4.3         3.0          1.1         0.1     setosa\n",
       "15           5.8         4.0          1.2         0.2     setosa\n",
       "16           5.7         4.4          1.5         0.4     setosa\n",
       "17           5.4         3.9          1.3         0.4     setosa\n",
       "18           5.1         3.5          1.4         0.3     setosa\n",
       "19           5.7         3.8          1.7         0.3     setosa\n",
       "20           5.1         3.8          1.5         0.3     setosa\n",
       "21           5.4         3.4          1.7         0.2     setosa\n",
       "22           5.1         3.7          1.5         0.4     setosa\n",
       "23           4.6         3.6          1.0         0.2     setosa\n",
       "24           5.1         3.3          1.7         0.5     setosa\n",
       "25           4.8         3.4          1.9         0.2     setosa\n",
       "26           5.0         3.0          1.6         0.2     setosa\n",
       "27           5.0         3.4          1.6         0.4     setosa\n",
       "28           5.2         3.5          1.5         0.2     setosa\n",
       "29           5.2         3.4          1.4         0.2     setosa\n",
       "30           4.7         3.2          1.6         0.2     setosa\n",
       "31           4.8         3.1          1.6         0.2     setosa\n",
       "32           5.4         3.4          1.5         0.4     setosa\n",
       "33           5.2         4.1          1.5         0.1     setosa\n",
       "34           5.5         4.2          1.4         0.2     setosa\n",
       "35           4.9         3.1          1.5         0.2     setosa\n",
       "36           5.0         3.2          1.2         0.2     setosa\n",
       "37           5.5         3.5          1.3         0.2     setosa\n",
       "38           4.9         3.6          1.4         0.1     setosa\n",
       "39           4.4         3.0          1.3         0.2     setosa\n",
       "40           5.1         3.4          1.5         0.2     setosa\n",
       "41           5.0         3.5          1.3         0.3     setosa\n",
       "42           4.5         2.3          1.3         0.3     setosa\n",
       "43           4.4         3.2          1.3         0.2     setosa\n",
       "44           5.0         3.5          1.6         0.6     setosa\n",
       "45           5.1         3.8          1.9         0.4     setosa\n",
       "46           4.8         3.0          1.4         0.3     setosa\n",
       "47           5.1         3.8          1.6         0.2     setosa\n",
       "48           4.6         3.2          1.4         0.2     setosa\n",
       "49           5.3         3.7          1.5         0.2     setosa\n",
       "50           5.0         3.3          1.4         0.2     setosa\n",
       "51           7.0         3.2          4.7         1.4 versicolor\n",
       "52           6.4         3.2          4.5         1.5 versicolor\n",
       "53           6.9         3.1          4.9         1.5 versicolor\n",
       "54           5.5         2.3          4.0         1.3 versicolor\n",
       "55           6.5         2.8          4.6         1.5 versicolor\n",
       "56           5.7         2.8          4.5         1.3 versicolor\n",
       "57           6.3         3.3          4.7         1.6 versicolor\n",
       "58           4.9         2.4          3.3         1.0 versicolor\n",
       "59           6.6         2.9          4.6         1.3 versicolor\n",
       "60           5.2         2.7          3.9         1.4 versicolor\n",
       "61           5.0         2.0          3.5         1.0 versicolor\n",
       "62           5.9         3.0          4.2         1.5 versicolor\n",
       "63           6.0         2.2          4.0         1.0 versicolor\n",
       "64           6.1         2.9          4.7         1.4 versicolor\n",
       "65           5.6         2.9          3.6         1.3 versicolor\n",
       "66           6.7         3.1          4.4         1.4 versicolor\n",
       "67           5.6         3.0          4.5         1.5 versicolor\n",
       "68           5.8         2.7          4.1         1.0 versicolor\n",
       "69           6.2         2.2          4.5         1.5 versicolor\n",
       "70           5.6         2.5          3.9         1.1 versicolor\n",
       "71           5.9         3.2          4.8         1.8 versicolor\n",
       "72           6.1         2.8          4.0         1.3 versicolor\n",
       "73           6.3         2.5          4.9         1.5 versicolor\n",
       "74           6.1         2.8          4.7         1.2 versicolor\n",
       "75           6.4         2.9          4.3         1.3 versicolor\n",
       "76           6.6         3.0          4.4         1.4 versicolor\n",
       "77           6.8         2.8          4.8         1.4 versicolor\n",
       "78           6.7         3.0          5.0         1.7 versicolor\n",
       "79           6.0         2.9          4.5         1.5 versicolor\n",
       "80           5.7         2.6          3.5         1.0 versicolor\n",
       "81           5.5         2.4          3.8         1.1 versicolor\n",
       "82           5.5         2.4          3.7         1.0 versicolor\n",
       "83           5.8         2.7          3.9         1.2 versicolor\n",
       "84           6.0         2.7          5.1         1.6 versicolor\n",
       "85           5.4         3.0          4.5         1.5 versicolor\n",
       "86           6.0         3.4          4.5         1.6 versicolor\n",
       "87           6.7         3.1          4.7         1.5 versicolor\n",
       "88           6.3         2.3          4.4         1.3 versicolor\n",
       "89           5.6         3.0          4.1         1.3 versicolor\n",
       "90           5.5         2.5          4.0         1.3 versicolor\n",
       "91           5.5         2.6          4.4         1.2 versicolor\n",
       "92           6.1         3.0          4.6         1.4 versicolor\n",
       "93           5.8         2.6          4.0         1.2 versicolor\n",
       "94           5.0         2.3          3.3         1.0 versicolor\n",
       "95           5.6         2.7          4.2         1.3 versicolor\n",
       "96           5.7         3.0          4.2         1.2 versicolor\n",
       "97           5.7         2.9          4.2         1.3 versicolor\n",
       "98           6.2         2.9          4.3         1.3 versicolor\n",
       "99           5.1         2.5          3.0         1.1 versicolor\n",
       "100          5.7         2.8          4.1         1.3 versicolor\n",
       "101          6.3         3.3          6.0         2.5  virginica\n",
       "102          5.8         2.7          5.1         1.9  virginica\n",
       "103          7.1         3.0          5.9         2.1  virginica\n",
       "104          6.3         2.9          5.6         1.8  virginica\n",
       "105          6.5         3.0          5.8         2.2  virginica\n",
       "106          7.6         3.0          6.6         2.1  virginica\n",
       "107          4.9         2.5          4.5         1.7  virginica\n",
       "108          7.3         2.9          6.3         1.8  virginica\n",
       "109          6.7         2.5          5.8         1.8  virginica\n",
       "110          7.2         3.6          6.1         2.5  virginica\n",
       "111          6.5         3.2          5.1         2.0  virginica\n",
       "112          6.4         2.7          5.3         1.9  virginica\n",
       "113          6.8         3.0          5.5         2.1  virginica\n",
       "114          5.7         2.5          5.0         2.0  virginica\n",
       "115          5.8         2.8          5.1         2.4  virginica\n",
       "116          6.4         3.2          5.3         2.3  virginica\n",
       "117          6.5         3.0          5.5         1.8  virginica\n",
       "118          7.7         3.8          6.7         2.2  virginica\n",
       "119          7.7         2.6          6.9         2.3  virginica\n",
       "120          6.0         2.2          5.0         1.5  virginica\n",
       "121          6.9         3.2          5.7         2.3  virginica\n",
       "122          5.6         2.8          4.9         2.0  virginica\n",
       "123          7.7         2.8          6.7         2.0  virginica\n",
       "124          6.3         2.7          4.9         1.8  virginica\n",
       "125          6.7         3.3          5.7         2.1  virginica\n",
       "126          7.2         3.2          6.0         1.8  virginica\n",
       "127          6.2         2.8          4.8         1.8  virginica\n",
       "128          6.1         3.0          4.9         1.8  virginica\n",
       "129          6.4         2.8          5.6         2.1  virginica\n",
       "130          7.2         3.0          5.8         1.6  virginica\n",
       "131          7.4         2.8          6.1         1.9  virginica\n",
       "132          7.9         3.8          6.4         2.0  virginica\n",
       "133          6.4         2.8          5.6         2.2  virginica\n",
       "134          6.3         2.8          5.1         1.5  virginica\n",
       "135          6.1         2.6          5.6         1.4  virginica\n",
       "136          7.7         3.0          6.1         2.3  virginica\n",
       "137          6.3         3.4          5.6         2.4  virginica\n",
       "138          6.4         3.1          5.5         1.8  virginica\n",
       "139          6.0         3.0          4.8         1.8  virginica\n",
       "140          6.9         3.1          5.4         2.1  virginica\n",
       "141          6.7         3.1          5.6         2.4  virginica\n",
       "142          6.9         3.1          5.1         2.3  virginica\n",
       "143          5.8         2.7          5.1         1.9  virginica\n",
       "144          6.8         3.2          5.9         2.3  virginica\n",
       "145          6.7         3.3          5.7         2.5  virginica\n",
       "146          6.7         3.0          5.2         2.3  virginica\n",
       "147          6.3         2.5          5.0         1.9  virginica\n",
       "148          6.5         3.0          5.2         2.0  virginica\n",
       "149          6.2         3.4          5.4         2.3  virginica\n",
       "150          5.9         3.0          5.1         1.8  virginica"
      ]
     },
     "metadata": {},
     "output_type": "display_data"
    }
   ],
   "source": [
    "iris"
   ]
  },
  {
   "cell_type": "code",
   "execution_count": 8,
   "metadata": {
    "collapsed": false,
    "slideshow": {
     "slide_type": "slide"
    }
   },
   "outputs": [],
   "source": [
    "library(ggplot2)"
   ]
  },
  {
   "cell_type": "code",
   "execution_count": 9,
   "metadata": {
    "collapsed": false,
    "slideshow": {
     "slide_type": "subslide"
    }
   },
   "outputs": [
    {
     "data": {
      "image/png": "[encoded data removed]",
      "text/plain": [
       "plot without title"
      ]
     },
     "metadata": {
      "image/svg+xml": {
       "isolated": true
      }
     },
     "output_type": "display_data"
    }
   ],
   "source": [
    "ggplot(data=iris, aes(x=Sepal.Length, y=Sepal.Width, color=Species)) + geom_point(size=3)"
   ]
  },
  {
   "cell_type": "code",
   "execution_count": 12,
   "metadata": {
    "collapsed": true
   },
   "outputs": [],
   "source": [
    "library(nnet)"
   ]
  },
  {
   "cell_type": "code",
   "execution_count": 15,
   "metadata": {
    "collapsed": false
   },
   "outputs": [
    {
     "name": "stdout",
     "output_type": "stream",
     "text": [
      "# weights:  19\n",
      "initial  value 56.609187 \n",
      "iter  10 value 36.566224\n",
      "iter  20 value 19.574888\n",
      "iter  30 value 17.906536\n",
      "iter  40 value 8.253534\n",
      "iter  50 value 2.906166\n",
      "iter  60 value 1.609140\n",
      "iter  70 value 1.447394\n",
      "iter  80 value 1.352347\n",
      "iter  90 value 1.226255\n",
      "iter 100 value 1.164588\n",
      "iter 110 value 1.150214\n",
      "iter 120 value 1.142791\n",
      "iter 130 value 1.133954\n",
      "iter 140 value 1.133562\n",
      "iter 150 value 1.133390\n",
      "iter 160 value 1.133378\n",
      "iter 170 value 1.133371\n",
      "iter 180 value 1.133368\n",
      "final  value 1.133368 \n",
      "converged\n"
     ]
    },
    {
     "data": {
      "text/plain": [
       "    cres\n",
       "true  1  2  3\n",
       "   1 25  0  0\n",
       "   2  0 25  0\n",
       "   3  2  0 23"
      ]
     },
     "metadata": {},
     "output_type": "display_data"
    }
   ],
   "source": [
    "ir <- rbind(iris3[,,1],iris3[,,2],iris3[,,3])\n",
    "targets <- class.ind( c(rep(\"s\", 50), rep(\"c\", 50), rep(\"v\", 50)) )\n",
    "samp <- c(sample(1:50,25), sample(51:100,25), sample(101:150,25))\n",
    "ir1 <- nnet(ir[samp,], targets[samp,], size = 2, rang = 0.1,\n",
    "decay = 5e-4, maxit = 200)\n",
    "test.cl <- function(true, pred) {\n",
    "true <- max.col(true)\n",
    "cres <- max.col(pred)\n",
    "table(true, cres)\n",
    "}\n",
    "test.cl(targets[-samp,], predict(ir1, ir[-samp,]))"
   ]
  },
  {
   "cell_type": "code",
   "execution_count": 16,
   "metadata": {
    "collapsed": false
   },
   "outputs": [
    {
     "name": "stdout",
     "output_type": "stream",
     "text": [
      "# weights:  19\n",
      "initial  value 82.620508 \n",
      "iter  10 value 35.760821\n",
      "iter  20 value 9.731709\n",
      "iter  30 value 5.199682\n",
      "iter  40 value 4.964729\n",
      "iter  50 value 4.474113\n",
      "iter  60 value 4.409059\n",
      "iter  70 value 4.286774\n",
      "iter  80 value 4.241621\n",
      "iter  90 value 4.022986\n",
      "iter 100 value 2.356449\n",
      "iter 110 value 1.830280\n",
      "iter 120 value 1.421485\n",
      "iter 130 value 1.208582\n",
      "iter 140 value 1.139482\n",
      "iter 150 value 1.057155\n",
      "iter 160 value 1.041733\n",
      "iter 170 value 1.028230\n",
      "iter 180 value 1.021985\n",
      "iter 190 value 1.019619\n",
      "iter 200 value 1.019013\n",
      "final  value 1.019013 \n",
      "stopped after 200 iterations\n"
     ]
    },
    {
     "data": {
      "text/plain": [
       "   \n",
       "     c  s  v\n",
       "  c 25  0  0\n",
       "  s  0 25  0\n",
       "  v  2  0 23"
      ]
     },
     "metadata": {},
     "output_type": "display_data"
    }
   ],
   "source": [
    "ird <- data.frame(rbind(iris3[,,1], iris3[,,2], iris3[,,3]),\n",
    "species = factor(c(rep(\"s\",50), rep(\"c\", 50), rep(\"v\", 50))))\n",
    "ir.nn2 <- nnet(species ~ ., data = ird, subset = samp, size = 2, rang = 0.1,\n",
    "decay = 5e-4, maxit = 200)\n",
    "table(ird$species[-samp], predict(ir.nn2, ird[-samp,], type = \"class\"))"
   ]
  },
  {
   "cell_type": "code",
   "execution_count": 17,
   "metadata": {
    "collapsed": false
   },
   "outputs": [
    {
     "name": "stdout",
     "output_type": "stream",
     "text": [
      "# weights:  19\n",
      "initial  value 57.167362 \n",
      "iter  10 value 50.007215\n",
      "iter  20 value 29.624684\n",
      "iter  30 value 21.615991\n",
      "iter  40 value 18.500612\n",
      "iter  50 value 11.298185\n",
      "iter  60 value 3.728685\n",
      "iter  70 value 2.848584\n",
      "iter  80 value 2.614220\n",
      "iter  90 value 2.334847\n",
      "iter 100 value 2.268862\n",
      "iter 110 value 2.249119\n",
      "iter 120 value 2.241811\n",
      "iter 130 value 2.239429\n",
      "iter 140 value 2.238891\n",
      "final  value 2.238827 \n",
      "converged\n"
     ]
    },
    {
     "data": {
      "text/html": [
       "<ol class=list-inline>\n",
       "\t<li>909.832489262226</li>\n",
       "\t<li>2.26011360626804</li>\n",
       "\t<li>0.678166623724063</li>\n",
       "\t<li>0.382993141933627</li>\n",
       "\t<li>0.305181634249396</li>\n",
       "\t<li>0.0735808095321853</li>\n",
       "\t<li>0.0672736001276883</li>\n",
       "\t<li>0.0515566433893583</li>\n",
       "\t<li>0.0102448121099778</li>\n",
       "\t<li>0.00880784100321814</li>\n",
       "\t<li>0.00572286602392889</li>\n",
       "\t<li>0.00442076703246651</li>\n",
       "\t<li>0.00364186726756893</li>\n",
       "\t<li>0.00345148171921274</li>\n",
       "\t<li>0.00209564878999137</li>\n",
       "\t<li>0.00135577713439145</li>\n",
       "\t<li>0.00107061359380865</li>\n",
       "\t<li>0.00103003696812595</li>\n",
       "\t<li>0.000935570798758541</li>\n",
       "</ol>\n"
      ],
      "text/latex": [
       "\\begin{enumerate*}\n",
       "\\item 909.832489262226\n",
       "\\item 2.26011360626804\n",
       "\\item 0.678166623724063\n",
       "\\item 0.382993141933627\n",
       "\\item 0.305181634249396\n",
       "\\item 0.0735808095321853\n",
       "\\item 0.0672736001276883\n",
       "\\item 0.0515566433893583\n",
       "\\item 0.0102448121099778\n",
       "\\item 0.00880784100321814\n",
       "\\item 0.00572286602392889\n",
       "\\item 0.00442076703246651\n",
       "\\item 0.00364186726756893\n",
       "\\item 0.00345148171921274\n",
       "\\item 0.00209564878999137\n",
       "\\item 0.00135577713439145\n",
       "\\item 0.00107061359380865\n",
       "\\item 0.00103003696812595\n",
       "\\item 0.000935570798758541\n",
       "\\end{enumerate*}\n"
      ],
      "text/markdown": [
       "1. 909.832489262226\n",
       "2. 2.26011360626804\n",
       "3. 0.678166623724063\n",
       "4. 0.382993141933627\n",
       "5. 0.305181634249396\n",
       "6. 0.0735808095321853\n",
       "7. 0.0672736001276883\n",
       "8. 0.0515566433893583\n",
       "9. 0.0102448121099778\n",
       "10. 0.00880784100321814\n",
       "11. 0.00572286602392889\n",
       "12. 0.00442076703246651\n",
       "13. 0.00364186726756893\n",
       "14. 0.00345148171921274\n",
       "15. 0.00209564878999137\n",
       "16. 0.00135577713439145\n",
       "17. 0.00107061359380865\n",
       "18. 0.00103003696812595\n",
       "19. 0.000935570798758541\n",
       "\n",
       "\n"
      ],
      "text/plain": [
       " [1] 9.098325e+02 2.260114e+00 6.781666e-01 3.829931e-01 3.051816e-01\n",
       " [6] 7.358081e-02 6.727360e-02 5.155664e-02 1.024481e-02 8.807841e-03\n",
       "[11] 5.722866e-03 4.420767e-03 3.641867e-03 3.451482e-03 2.095649e-03\n",
       "[16] 1.355777e-03 1.070614e-03 1.030037e-03 9.355708e-04"
      ]
     },
     "metadata": {},
     "output_type": "display_data"
    }
   ],
   "source": [
    "# use half the iris data\n",
    "ir <- rbind(iris3[,,1], iris3[,,2], iris3[,,3])\n",
    "targets <- matrix(c(rep(c(1,0,0),50), rep(c(0,1,0),50), rep(c(0,0,1),50)),\n",
    "150, 3, byrow=TRUE)\n",
    "samp <- c(sample(1:50,25), sample(51:100,25), sample(101:150,25))\n",
    "ir1 <- nnet(ir[samp,], targets[samp,], size=2, rang=0.1, decay=5e-4, maxit=200)\n",
    "eigen(nnetHess(ir1, ir[samp,], targets[samp,]), TRUE)$values"
   ]
  },
  {
   "cell_type": "code",
   "execution_count": null,
   "metadata": {
    "collapsed": true
   },
   "outputs": [],
   "source": []
  }
 ],
 "metadata": {
  "celltoolbar": "Slideshow",
  "kernelspec": {
   "display_name": "Python 2",
   "language": "python",
   "name": "python2"
  },
  "language_info": {
   "codemirror_mode": {
    "name": "ipython",
    "version": 2
   },
   "file_extension": ".py",
   "mimetype": "text/x-python",
   "name": "python",
   "nbconvert_exporter": "python",
   "pygments_lexer": "ipython2",
   "version": "2.7.11"
  }
 },
 "nbformat": 4,
 "nbformat_minor": 0
}
